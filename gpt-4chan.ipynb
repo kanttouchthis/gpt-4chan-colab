{
  "nbformat": 4,
  "nbformat_minor": 0,
  "metadata": {
    "colab": {
      "name": "4chan.ipynb",
      "provenance": [],
      "collapsed_sections": [],
      "machine_shape": "hm",
      "authorship_tag": "ABX9TyP66NG9nGwpyNllJRu5i2Qt",
      "include_colab_link": true
    },
    "kernelspec": {
      "name": "python3",
      "display_name": "Python 3"
    },
    "language_info": {
      "name": "python"
    },
    "gpuClass": "standard",
    "accelerator": "GPU"
  },
  "cells": [
    {
      "cell_type": "markdown",
      "metadata": {
        "id": "view-in-github",
        "colab_type": "text"
      },
      "source": [
        "<a href=\"https://colab.research.google.com/github/kanttouchthis/gpt-4chan-colab/blob/main/gpt-4chan.ipynb\" target=\"_parent\"><img src=\"https://colab.research.google.com/assets/colab-badge.svg\" alt=\"Open In Colab\"/></a>"
      ]
    },
    {
      "cell_type": "markdown",
      "source": [
        "You can get the model file(s) from https://archive.org/details/gpt4chan_model_float16\n",
        "and the config file from https://github.com/Aspie96/gpt-4chan-model"
      ],
      "metadata": {
        "id": "r_sMF3p52I8K"
      }
    },
    {
      "cell_type": "code",
      "execution_count": null,
      "metadata": {
        "id": "jhM2vaVH3fuo"
      },
      "outputs": [],
      "source": [
        "!nvidia-smi # 16+GB VRAM required"
      ]
    },
    {
      "cell_type": "code",
      "source": [
        "!pip install transformers"
      ],
      "metadata": {
        "id": "W6W_elwT3wud"
      },
      "execution_count": null,
      "outputs": []
    },
    {
      "cell_type": "code",
      "source": [
        "from google.colab import drive\n",
        "drive.mount('/content/drive') # loading from drive for speed"
      ],
      "metadata": {
        "id": "GLWGa7Z3kwaL"
      },
      "execution_count": null,
      "outputs": []
    },
    {
      "cell_type": "code",
      "source": [
        "from transformers import GPTJForCausalLM, AutoTokenizer\n",
        "import torch\n",
        "\n",
        "from transformers import GPTJForCausalLM\n",
        "import torch\n",
        "\n",
        "model_path = \"/content/drive/My Drive/model/\" # Assumes you have pytorch_model.bin and config.json in /content/drive/My Drive/model/\n",
        "\n",
        "model = GPTJForCausalLM.from_pretrained(\n",
        "    model_path, revision=\"float16\", torch_dtype=torch.float16, low_cpu_mem_usage=True, local_files_only=True\n",
        ")\n",
        "model.cuda()\n",
        "tokenizer = AutoTokenizer.from_pretrained(\"EleutherAI/gpt-j-6B\")"
      ],
      "metadata": {
        "id": "hEb3LB4A532V"
      },
      "execution_count": null,
      "outputs": []
    },
    {
      "cell_type": "code",
      "source": [
        "prompt = (\n",
        "    \"--- 152558911\\n\"\n",
        "    \">be me\\n\"\n",
        ")\n",
        "\n",
        "input_ids = tokenizer(prompt, return_tensors=\"pt\").input_ids\n",
        "input_ids = input_ids.cuda()\n",
        "\n",
        "gen_tokens = model.generate(\n",
        "    input_ids,\n",
        "    do_sample=True,\n",
        "    temperature=0.8,\n",
        "    top_p=0.9,\n",
        "    max_length=256,\n",
        ")\n",
        "gen_text = tokenizer.batch_decode(gen_tokens)[0]\n",
        "print(gen_text)"
      ],
      "metadata": {
        "id": "uBLdINiR3jK_"
      },
      "execution_count": null,
      "outputs": []
    }
  ]
}