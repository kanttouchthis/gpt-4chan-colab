{
  "cells": [
    {
      "cell_type": "markdown",
      "metadata": {
        "colab_type": "text",
        "id": "view-in-github"
      },
      "source": [
        "<a href=\"https://colab.research.google.com/github/kanttouchthis/gpt-4chan-colab/blob/main/gpt-4chan.ipynb\" target=\"_parent\"><img src=\"https://colab.research.google.com/assets/colab-badge.svg\" alt=\"Open In Colab\"/></a>"
      ]
    },
    {
      "cell_type": "markdown",
      "metadata": {
        "id": "r_sMF3p52I8K"
      },
      "source": [
        "You can get the model file(s) from https://archive.org/details/gpt4chan_model_float16\n",
        "and the config file from https://github.com/Aspie96/gpt-4chan-model"
      ]
    },
    {
      "cell_type": "code",
      "execution_count": null,
      "metadata": {
        "id": "jhM2vaVH3fuo"
      },
      "outputs": [],
      "source": [
        "# Check GPU. 16+GB VRAM required\n",
        "!nvidia-smi "
      ]
    },
    {
      "cell_type": "code",
      "execution_count": null,
      "metadata": {
        "id": "W6W_elwT3wud"
      },
      "outputs": [],
      "source": [
        "# Install required libraries. (run once)\n",
        "!pip install transformers"
      ]
    },
    {
      "cell_type": "code",
      "execution_count": null,
      "metadata": {
        "id": "GLWGa7Z3kwaL"
      },
      "outputs": [],
      "source": [
        "# Load model from drive for speed. Replace this if you want to load it from somewhere else. (run once)\n",
        "from google.colab import drive\n",
        "drive.mount('/content/drive') "
      ]
    },
    {
      "cell_type": "code",
      "execution_count": null,
      "metadata": {
        "id": "hEb3LB4A532V"
      },
      "outputs": [],
      "source": [
        "# Import libraries and load model. (run once)\n",
        "from transformers import GPTJForCausalLM, AutoTokenizer\n",
        "import torch\n",
        "\n",
        "model_path = \"/content/drive/My Drive/model/\" # Assumes you have pytorch_model.bin and config.json in /content/drive/My Drive/model/\n",
        "\n",
        "model = GPTJForCausalLM.from_pretrained(\n",
        "    model_path, revision=\"float16\", torch_dtype=torch.float16, low_cpu_mem_usage=True, local_files_only=True\n",
        ")\n",
        "model.cuda()\n",
        "tokenizer = AutoTokenizer.from_pretrained(\"EleutherAI/gpt-j-6B\")"
      ]
    },
    {
      "cell_type": "code",
      "execution_count": null,
      "metadata": {},
      "outputs": [],
      "source": [
        "# Define function to generate text. (run once)\n",
        "def generate(prompt, **kwargs):\n",
        "    input_ids = tokenizer(prompt, return_tensors=\"pt\").input_ids\n",
        "    input_ids = input_ids.cuda()\n",
        "    gen_tokens = model.generate(input_ids, **kwargs)\n",
        "    return tokenizer.batch_decode(gen_tokens)[0]"
      ]
    },
    {
      "cell_type": "code",
      "execution_count": null,
      "metadata": {
        "id": "uBLdINiR3jK_"
      },
      "outputs": [],
      "source": [
        "# Define kwargs and prompt for generation. (run as many times as you want)\n",
        "generation_kwargs ={\n",
        "    \"do_sample\":True,\n",
        "    \"temperature\":0.8,\n",
        "    \"top_p\":0.9,\n",
        "    \"max_length\":256\n",
        "}\n",
        "\n",
        "prompt = (\n",
        "    \"--- 152558911\\n\"\n",
        "    \">be me\\n\"\n",
        ")\n",
        "\n",
        "generated_text = generate(prompt, **generation_kwargs)\n",
        "print(generated_text)"
      ]
    }
  ],
  "metadata": {
    "accelerator": "GPU",
    "colab": {
      "authorship_tag": "ABX9TyP66NG9nGwpyNllJRu5i2Qt",
      "collapsed_sections": [],
      "include_colab_link": true,
      "machine_shape": "hm",
      "name": "4chan.ipynb",
      "provenance": []
    },
    "gpuClass": "standard",
    "kernelspec": {
      "display_name": "Python 3",
      "name": "python3"
    },
    "language_info": {
      "name": "python"
    }
  },
  "nbformat": 4,
  "nbformat_minor": 0
}
